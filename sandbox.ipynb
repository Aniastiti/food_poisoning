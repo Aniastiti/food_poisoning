{
 "cells": [
  {
   "cell_type": "code",
   "execution_count": 1,
   "metadata": {},
   "outputs": [],
   "source": [
    "# import libraries\n",
    "\n",
    "import numpy as np\n",
    "import pandas as pd\n",
    "import requests\n",
    "from datetime import timedelta, datetime\n",
    "import matplotlib.pyplot as plt\n",
    "import seaborn as sns\n",
    "import plotly\n",
    "from sklearn.model_selection import train_test_split\n",
    "from scipy import stats\n",
    "import re\n",
    "# import functions\n",
    "\n",
    "from acquire import read_csv\n",
    "from prepare import missing_values_table, handle_missing_values"
   ]
  },
  {
   "cell_type": "code",
   "execution_count": 2,
   "metadata": {},
   "outputs": [],
   "source": [
    "df = read_csv()"
   ]
  },
  {
   "cell_type": "code",
   "execution_count": 3,
   "metadata": {},
   "outputs": [
    {
     "data": {
      "text/html": [
       "<div>\n",
       "<style scoped>\n",
       "    .dataframe tbody tr th:only-of-type {\n",
       "        vertical-align: middle;\n",
       "    }\n",
       "\n",
       "    .dataframe tbody tr th {\n",
       "        vertical-align: top;\n",
       "    }\n",
       "\n",
       "    .dataframe thead th {\n",
       "        text-align: right;\n",
       "    }\n",
       "</style>\n",
       "<table border=\"1\" class=\"dataframe\">\n",
       "  <thead>\n",
       "    <tr style=\"text-align: right;\">\n",
       "      <th></th>\n",
       "      <th>Month</th>\n",
       "      <th>State</th>\n",
       "      <th>Genus Species</th>\n",
       "      <th>Serotype or Genotype</th>\n",
       "      <th>Etiology Status</th>\n",
       "      <th>Location of Preparation</th>\n",
       "      <th>Illnesses</th>\n",
       "      <th>Hospitalizations</th>\n",
       "      <th>Deaths</th>\n",
       "      <th>Food Vehicle</th>\n",
       "      <th>Contaminated Ingredient</th>\n",
       "    </tr>\n",
       "    <tr>\n",
       "      <th>Year</th>\n",
       "      <th></th>\n",
       "      <th></th>\n",
       "      <th></th>\n",
       "      <th></th>\n",
       "      <th></th>\n",
       "      <th></th>\n",
       "      <th></th>\n",
       "      <th></th>\n",
       "      <th></th>\n",
       "      <th></th>\n",
       "      <th></th>\n",
       "    </tr>\n",
       "  </thead>\n",
       "  <tbody>\n",
       "    <tr>\n",
       "      <th>2009</th>\n",
       "      <td>1</td>\n",
       "      <td>Minnesota</td>\n",
       "      <td>Norovirus</td>\n",
       "      <td>NaN</td>\n",
       "      <td>Suspected</td>\n",
       "      <td>Restaurant - Sit-down dining</td>\n",
       "      <td>2</td>\n",
       "      <td>0.0</td>\n",
       "      <td>0.0</td>\n",
       "      <td>NaN</td>\n",
       "      <td>NaN</td>\n",
       "    </tr>\n",
       "    <tr>\n",
       "      <th>2009</th>\n",
       "      <td>1</td>\n",
       "      <td>Minnesota</td>\n",
       "      <td>Norovirus</td>\n",
       "      <td>NaN</td>\n",
       "      <td>Confirmed</td>\n",
       "      <td>NaN</td>\n",
       "      <td>16</td>\n",
       "      <td>0.0</td>\n",
       "      <td>0.0</td>\n",
       "      <td>NaN</td>\n",
       "      <td>NaN</td>\n",
       "    </tr>\n",
       "  </tbody>\n",
       "</table>\n",
       "</div>"
      ],
      "text/plain": [
       "      Month      State Genus Species Serotype or Genotype Etiology Status  \\\n",
       "Year                                                                        \n",
       "2009      1  Minnesota     Norovirus                  NaN       Suspected   \n",
       "2009      1  Minnesota     Norovirus                  NaN       Confirmed   \n",
       "\n",
       "           Location of Preparation  Illnesses  Hospitalizations  Deaths  \\\n",
       "Year                                                                      \n",
       "2009  Restaurant - Sit-down dining          2               0.0     0.0   \n",
       "2009                           NaN         16               0.0     0.0   \n",
       "\n",
       "     Food Vehicle Contaminated Ingredient  \n",
       "Year                                       \n",
       "2009          NaN                     NaN  \n",
       "2009          NaN                     NaN  "
      ]
     },
     "execution_count": 3,
     "metadata": {},
     "output_type": "execute_result"
    }
   ],
   "source": [
    "df.head(2)"
   ]
  },
  {
   "cell_type": "code",
   "execution_count": 4,
   "metadata": {},
   "outputs": [
    {
     "data": {
      "text/plain": [
       "(19119, 11)"
      ]
     },
     "execution_count": 4,
     "metadata": {},
     "output_type": "execute_result"
    }
   ],
   "source": [
    "df.shape"
   ]
  },
  {
   "cell_type": "code",
   "execution_count": 5,
   "metadata": {},
   "outputs": [
    {
     "name": "stdout",
     "output_type": "stream",
     "text": [
      "<class 'pandas.core.frame.DataFrame'>\n",
      "Int64Index: 19119 entries, 2009 to 2015\n",
      "Data columns (total 11 columns):\n",
      " #   Column                   Non-Null Count  Dtype  \n",
      "---  ------                   --------------  -----  \n",
      " 0   Month                    19119 non-null  int64  \n",
      " 1   State                    19119 non-null  object \n",
      " 2   Genus Species            12500 non-null  object \n",
      " 3   Serotype or Genotype     3907 non-null   object \n",
      " 4   Etiology Status          12500 non-null  object \n",
      " 5   Location of Preparation  17984 non-null  object \n",
      " 6   Illnesses                19119 non-null  int64  \n",
      " 7   Hospitalizations         15494 non-null  float64\n",
      " 8   Deaths                   15518 non-null  float64\n",
      " 9   Food Vehicle             10156 non-null  object \n",
      " 10  Contaminated Ingredient  1876 non-null   object \n",
      "dtypes: float64(2), int64(2), object(7)\n",
      "memory usage: 1.8+ MB\n"
     ]
    }
   ],
   "source": [
    "df.info()"
   ]
  },
  {
   "cell_type": "code",
   "execution_count": 6,
   "metadata": {},
   "outputs": [
    {
     "data": {
      "text/html": [
       "<div>\n",
       "<style scoped>\n",
       "    .dataframe tbody tr th:only-of-type {\n",
       "        vertical-align: middle;\n",
       "    }\n",
       "\n",
       "    .dataframe tbody tr th {\n",
       "        vertical-align: top;\n",
       "    }\n",
       "\n",
       "    .dataframe thead th {\n",
       "        text-align: right;\n",
       "    }\n",
       "</style>\n",
       "<table border=\"1\" class=\"dataframe\">\n",
       "  <thead>\n",
       "    <tr style=\"text-align: right;\">\n",
       "      <th></th>\n",
       "      <th>Month</th>\n",
       "      <th>Illnesses</th>\n",
       "      <th>Hospitalizations</th>\n",
       "      <th>Deaths</th>\n",
       "    </tr>\n",
       "  </thead>\n",
       "  <tbody>\n",
       "    <tr>\n",
       "      <th>count</th>\n",
       "      <td>19119.000000</td>\n",
       "      <td>19119.000000</td>\n",
       "      <td>15494.000000</td>\n",
       "      <td>15518.000000</td>\n",
       "    </tr>\n",
       "    <tr>\n",
       "      <th>mean</th>\n",
       "      <td>6.433443</td>\n",
       "      <td>19.537162</td>\n",
       "      <td>0.947528</td>\n",
       "      <td>0.021717</td>\n",
       "    </tr>\n",
       "    <tr>\n",
       "      <th>std</th>\n",
       "      <td>3.432970</td>\n",
       "      <td>49.452417</td>\n",
       "      <td>5.312772</td>\n",
       "      <td>0.386976</td>\n",
       "    </tr>\n",
       "    <tr>\n",
       "      <th>min</th>\n",
       "      <td>1.000000</td>\n",
       "      <td>2.000000</td>\n",
       "      <td>0.000000</td>\n",
       "      <td>0.000000</td>\n",
       "    </tr>\n",
       "    <tr>\n",
       "      <th>25%</th>\n",
       "      <td>4.000000</td>\n",
       "      <td>3.000000</td>\n",
       "      <td>0.000000</td>\n",
       "      <td>0.000000</td>\n",
       "    </tr>\n",
       "    <tr>\n",
       "      <th>50%</th>\n",
       "      <td>6.000000</td>\n",
       "      <td>8.000000</td>\n",
       "      <td>0.000000</td>\n",
       "      <td>0.000000</td>\n",
       "    </tr>\n",
       "    <tr>\n",
       "      <th>75%</th>\n",
       "      <td>9.000000</td>\n",
       "      <td>19.000000</td>\n",
       "      <td>1.000000</td>\n",
       "      <td>0.000000</td>\n",
       "    </tr>\n",
       "    <tr>\n",
       "      <th>max</th>\n",
       "      <td>12.000000</td>\n",
       "      <td>1939.000000</td>\n",
       "      <td>308.000000</td>\n",
       "      <td>33.000000</td>\n",
       "    </tr>\n",
       "  </tbody>\n",
       "</table>\n",
       "</div>"
      ],
      "text/plain": [
       "              Month     Illnesses  Hospitalizations        Deaths\n",
       "count  19119.000000  19119.000000      15494.000000  15518.000000\n",
       "mean       6.433443     19.537162          0.947528      0.021717\n",
       "std        3.432970     49.452417          5.312772      0.386976\n",
       "min        1.000000      2.000000          0.000000      0.000000\n",
       "25%        4.000000      3.000000          0.000000      0.000000\n",
       "50%        6.000000      8.000000          0.000000      0.000000\n",
       "75%        9.000000     19.000000          1.000000      0.000000\n",
       "max       12.000000   1939.000000        308.000000     33.000000"
      ]
     },
     "execution_count": 6,
     "metadata": {},
     "output_type": "execute_result"
    }
   ],
   "source": [
    "df.describe()"
   ]
  },
  {
   "cell_type": "code",
   "execution_count": 7,
   "metadata": {},
   "outputs": [
    {
     "data": {
      "text/plain": [
       "0.0     15342\n",
       "1.0       125\n",
       "2.0        27\n",
       "3.0         9\n",
       "7.0         3\n",
       "5.0         3\n",
       "4.0         3\n",
       "6.0         2\n",
       "21.0        1\n",
       "33.0        1\n",
       "9.0         1\n",
       "8.0         1\n",
       "Name: Deaths, dtype: int64"
      ]
     },
     "execution_count": 7,
     "metadata": {},
     "output_type": "execute_result"
    }
   ],
   "source": [
    "df.Deaths.value_counts()"
   ]
  },
  {
   "cell_type": "code",
   "execution_count": 8,
   "metadata": {},
   "outputs": [
    {
     "name": "stdout",
     "output_type": "stream",
     "text": [
      "Your selected dataframe has 11 columns and 19119 Rows.\n",
      "There are 8 columns that have NULL values.\n"
     ]
    },
    {
     "data": {
      "text/html": [
       "<div>\n",
       "<style scoped>\n",
       "    .dataframe tbody tr th:only-of-type {\n",
       "        vertical-align: middle;\n",
       "    }\n",
       "\n",
       "    .dataframe tbody tr th {\n",
       "        vertical-align: top;\n",
       "    }\n",
       "\n",
       "    .dataframe thead th {\n",
       "        text-align: right;\n",
       "    }\n",
       "</style>\n",
       "<table border=\"1\" class=\"dataframe\">\n",
       "  <thead>\n",
       "    <tr style=\"text-align: right;\">\n",
       "      <th></th>\n",
       "      <th>Zero Values</th>\n",
       "      <th>null_count</th>\n",
       "      <th>% of Total Values</th>\n",
       "      <th>Total Zeroes + Null Values</th>\n",
       "      <th>% Total Zero + Null Values</th>\n",
       "      <th>Data Type</th>\n",
       "    </tr>\n",
       "  </thead>\n",
       "  <tbody>\n",
       "    <tr>\n",
       "      <th>Contaminated Ingredient</th>\n",
       "      <td>0</td>\n",
       "      <td>17243</td>\n",
       "      <td>90.2</td>\n",
       "      <td>17243</td>\n",
       "      <td>90.2</td>\n",
       "      <td>object</td>\n",
       "    </tr>\n",
       "    <tr>\n",
       "      <th>Serotype or Genotype</th>\n",
       "      <td>0</td>\n",
       "      <td>15212</td>\n",
       "      <td>79.6</td>\n",
       "      <td>15212</td>\n",
       "      <td>79.6</td>\n",
       "      <td>object</td>\n",
       "    </tr>\n",
       "    <tr>\n",
       "      <th>Food Vehicle</th>\n",
       "      <td>0</td>\n",
       "      <td>8963</td>\n",
       "      <td>46.9</td>\n",
       "      <td>8963</td>\n",
       "      <td>46.9</td>\n",
       "      <td>object</td>\n",
       "    </tr>\n",
       "    <tr>\n",
       "      <th>Genus Species</th>\n",
       "      <td>0</td>\n",
       "      <td>6619</td>\n",
       "      <td>34.6</td>\n",
       "      <td>6619</td>\n",
       "      <td>34.6</td>\n",
       "      <td>object</td>\n",
       "    </tr>\n",
       "    <tr>\n",
       "      <th>Etiology Status</th>\n",
       "      <td>0</td>\n",
       "      <td>6619</td>\n",
       "      <td>34.6</td>\n",
       "      <td>6619</td>\n",
       "      <td>34.6</td>\n",
       "      <td>object</td>\n",
       "    </tr>\n",
       "    <tr>\n",
       "      <th>Hospitalizations</th>\n",
       "      <td>11439</td>\n",
       "      <td>3625</td>\n",
       "      <td>19.0</td>\n",
       "      <td>15064</td>\n",
       "      <td>78.8</td>\n",
       "      <td>float64</td>\n",
       "    </tr>\n",
       "    <tr>\n",
       "      <th>Deaths</th>\n",
       "      <td>15342</td>\n",
       "      <td>3601</td>\n",
       "      <td>18.8</td>\n",
       "      <td>18943</td>\n",
       "      <td>99.1</td>\n",
       "      <td>float64</td>\n",
       "    </tr>\n",
       "    <tr>\n",
       "      <th>Location of Preparation</th>\n",
       "      <td>0</td>\n",
       "      <td>1135</td>\n",
       "      <td>5.9</td>\n",
       "      <td>1135</td>\n",
       "      <td>5.9</td>\n",
       "      <td>object</td>\n",
       "    </tr>\n",
       "    <tr>\n",
       "      <th>Month</th>\n",
       "      <td>0</td>\n",
       "      <td>0</td>\n",
       "      <td>0.0</td>\n",
       "      <td>0</td>\n",
       "      <td>0.0</td>\n",
       "      <td>int64</td>\n",
       "    </tr>\n",
       "    <tr>\n",
       "      <th>State</th>\n",
       "      <td>0</td>\n",
       "      <td>0</td>\n",
       "      <td>0.0</td>\n",
       "      <td>0</td>\n",
       "      <td>0.0</td>\n",
       "      <td>object</td>\n",
       "    </tr>\n",
       "    <tr>\n",
       "      <th>Illnesses</th>\n",
       "      <td>0</td>\n",
       "      <td>0</td>\n",
       "      <td>0.0</td>\n",
       "      <td>0</td>\n",
       "      <td>0.0</td>\n",
       "      <td>int64</td>\n",
       "    </tr>\n",
       "  </tbody>\n",
       "</table>\n",
       "</div>"
      ],
      "text/plain": [
       "                         Zero Values  null_count  % of Total Values  \\\n",
       "Contaminated Ingredient            0       17243               90.2   \n",
       "Serotype or Genotype               0       15212               79.6   \n",
       "Food Vehicle                       0        8963               46.9   \n",
       "Genus Species                      0        6619               34.6   \n",
       "Etiology Status                    0        6619               34.6   \n",
       "Hospitalizations               11439        3625               19.0   \n",
       "Deaths                         15342        3601               18.8   \n",
       "Location of Preparation            0        1135                5.9   \n",
       "Month                              0           0                0.0   \n",
       "State                              0           0                0.0   \n",
       "Illnesses                          0           0                0.0   \n",
       "\n",
       "                         Total Zeroes + Null Values  \\\n",
       "Contaminated Ingredient                       17243   \n",
       "Serotype or Genotype                          15212   \n",
       "Food Vehicle                                   8963   \n",
       "Genus Species                                  6619   \n",
       "Etiology Status                                6619   \n",
       "Hospitalizations                              15064   \n",
       "Deaths                                        18943   \n",
       "Location of Preparation                        1135   \n",
       "Month                                             0   \n",
       "State                                             0   \n",
       "Illnesses                                         0   \n",
       "\n",
       "                         % Total Zero + Null Values Data Type  \n",
       "Contaminated Ingredient                        90.2    object  \n",
       "Serotype or Genotype                           79.6    object  \n",
       "Food Vehicle                                   46.9    object  \n",
       "Genus Species                                  34.6    object  \n",
       "Etiology Status                                34.6    object  \n",
       "Hospitalizations                               78.8   float64  \n",
       "Deaths                                         99.1   float64  \n",
       "Location of Preparation                         5.9    object  \n",
       "Month                                           0.0     int64  \n",
       "State                                           0.0    object  \n",
       "Illnesses                                       0.0     int64  "
      ]
     },
     "execution_count": 8,
     "metadata": {},
     "output_type": "execute_result"
    }
   ],
   "source": [
    "missing_values_table(df)"
   ]
  },
  {
   "cell_type": "code",
   "execution_count": 9,
   "metadata": {},
   "outputs": [
    {
     "data": {
      "text/plain": [
       "['Month',\n",
       " 'State',\n",
       " 'Genus Species',\n",
       " 'Serotype or Genotype',\n",
       " 'Etiology Status',\n",
       " 'Location of Preparation',\n",
       " 'Illnesses',\n",
       " 'Hospitalizations',\n",
       " 'Deaths',\n",
       " 'Food Vehicle',\n",
       " 'Contaminated Ingredient']"
      ]
     },
     "execution_count": 9,
     "metadata": {},
     "output_type": "execute_result"
    }
   ],
   "source": [
    "df.columns.to_list()"
   ]
  },
  {
   "cell_type": "code",
   "execution_count": 10,
   "metadata": {},
   "outputs": [],
   "source": [
    "# rename all columns\n",
    "df.columns = ['month', 'state', 'genus_species', 'serotype_or_genotype', 'etiology_status', 'location_of_preparation', 'illnesses', 'hospitalizations',\n",
    "             'deaths', 'food_vehicle', 'contaminated_ingredient']"
   ]
  },
  {
   "cell_type": "code",
   "execution_count": 11,
   "metadata": {},
   "outputs": [
    {
     "data": {
      "text/html": [
       "<div>\n",
       "<style scoped>\n",
       "    .dataframe tbody tr th:only-of-type {\n",
       "        vertical-align: middle;\n",
       "    }\n",
       "\n",
       "    .dataframe tbody tr th {\n",
       "        vertical-align: top;\n",
       "    }\n",
       "\n",
       "    .dataframe thead th {\n",
       "        text-align: right;\n",
       "    }\n",
       "</style>\n",
       "<table border=\"1\" class=\"dataframe\">\n",
       "  <thead>\n",
       "    <tr style=\"text-align: right;\">\n",
       "      <th></th>\n",
       "      <th>month</th>\n",
       "      <th>state</th>\n",
       "      <th>genus_species</th>\n",
       "      <th>serotype_or_genotype</th>\n",
       "      <th>etiology_status</th>\n",
       "      <th>location_of_preparation</th>\n",
       "      <th>illnesses</th>\n",
       "      <th>hospitalizations</th>\n",
       "      <th>deaths</th>\n",
       "      <th>food_vehicle</th>\n",
       "      <th>contaminated_ingredient</th>\n",
       "    </tr>\n",
       "    <tr>\n",
       "      <th>Year</th>\n",
       "      <th></th>\n",
       "      <th></th>\n",
       "      <th></th>\n",
       "      <th></th>\n",
       "      <th></th>\n",
       "      <th></th>\n",
       "      <th></th>\n",
       "      <th></th>\n",
       "      <th></th>\n",
       "      <th></th>\n",
       "      <th></th>\n",
       "    </tr>\n",
       "  </thead>\n",
       "  <tbody>\n",
       "    <tr>\n",
       "      <th>2009</th>\n",
       "      <td>1</td>\n",
       "      <td>Minnesota</td>\n",
       "      <td>Norovirus</td>\n",
       "      <td>NaN</td>\n",
       "      <td>Suspected</td>\n",
       "      <td>Restaurant - Sit-down dining</td>\n",
       "      <td>2</td>\n",
       "      <td>0.0</td>\n",
       "      <td>0.0</td>\n",
       "      <td>NaN</td>\n",
       "      <td>NaN</td>\n",
       "    </tr>\n",
       "    <tr>\n",
       "      <th>2009</th>\n",
       "      <td>1</td>\n",
       "      <td>Minnesota</td>\n",
       "      <td>Norovirus</td>\n",
       "      <td>NaN</td>\n",
       "      <td>Confirmed</td>\n",
       "      <td>NaN</td>\n",
       "      <td>16</td>\n",
       "      <td>0.0</td>\n",
       "      <td>0.0</td>\n",
       "      <td>NaN</td>\n",
       "      <td>NaN</td>\n",
       "    </tr>\n",
       "    <tr>\n",
       "      <th>2009</th>\n",
       "      <td>1</td>\n",
       "      <td>Minnesota</td>\n",
       "      <td>Norovirus</td>\n",
       "      <td>NaN</td>\n",
       "      <td>Suspected</td>\n",
       "      <td>Restaurant - Sit-down dining</td>\n",
       "      <td>5</td>\n",
       "      <td>0.0</td>\n",
       "      <td>0.0</td>\n",
       "      <td>NaN</td>\n",
       "      <td>NaN</td>\n",
       "    </tr>\n",
       "    <tr>\n",
       "      <th>2009</th>\n",
       "      <td>1</td>\n",
       "      <td>Minnesota</td>\n",
       "      <td>Norovirus</td>\n",
       "      <td>NaN</td>\n",
       "      <td>Confirmed</td>\n",
       "      <td>Restaurant - \"Fast-food\"(drive up service or pay at counter)</td>\n",
       "      <td>3</td>\n",
       "      <td>0.0</td>\n",
       "      <td>0.0</td>\n",
       "      <td>NaN</td>\n",
       "      <td>NaN</td>\n",
       "    </tr>\n",
       "    <tr>\n",
       "      <th>2009</th>\n",
       "      <td>1</td>\n",
       "      <td>Minnesota</td>\n",
       "      <td>Norovirus</td>\n",
       "      <td>NaN</td>\n",
       "      <td>Confirmed</td>\n",
       "      <td>Restaurant - other or unknown type</td>\n",
       "      <td>21</td>\n",
       "      <td>0.0</td>\n",
       "      <td>0.0</td>\n",
       "      <td>cookies</td>\n",
       "      <td>NaN</td>\n",
       "    </tr>\n",
       "  </tbody>\n",
       "</table>\n",
       "</div>"
      ],
      "text/plain": [
       "      month      state genus_species serotype_or_genotype etiology_status  \\\n",
       "Year                                                                        \n",
       "2009      1  Minnesota     Norovirus                  NaN       Suspected   \n",
       "2009      1  Minnesota     Norovirus                  NaN       Confirmed   \n",
       "2009      1  Minnesota     Norovirus                  NaN       Suspected   \n",
       "2009      1  Minnesota     Norovirus                  NaN       Confirmed   \n",
       "2009      1  Minnesota     Norovirus                  NaN       Confirmed   \n",
       "\n",
       "                                           location_of_preparation  illnesses  \\\n",
       "Year                                                                            \n",
       "2009                                  Restaurant - Sit-down dining          2   \n",
       "2009                                                           NaN         16   \n",
       "2009                                  Restaurant - Sit-down dining          5   \n",
       "2009  Restaurant - \"Fast-food\"(drive up service or pay at counter)          3   \n",
       "2009                            Restaurant - other or unknown type         21   \n",
       "\n",
       "      hospitalizations  deaths food_vehicle contaminated_ingredient  \n",
       "Year                                                                 \n",
       "2009               0.0     0.0          NaN                     NaN  \n",
       "2009               0.0     0.0          NaN                     NaN  \n",
       "2009               0.0     0.0          NaN                     NaN  \n",
       "2009               0.0     0.0          NaN                     NaN  \n",
       "2009               0.0     0.0      cookies                     NaN  "
      ]
     },
     "execution_count": 11,
     "metadata": {},
     "output_type": "execute_result"
    }
   ],
   "source": [
    "df.head()"
   ]
  },
  {
   "cell_type": "code",
   "execution_count": 12,
   "metadata": {},
   "outputs": [
    {
     "data": {
      "text/plain": [
       "Norovirus Genogroup I                                          2744\n",
       "Salmonella enterica                                            2303\n",
       "Norovirus Genogroup II                                         1424\n",
       "Norovirus unknown                                               790\n",
       "Clostridium perfringens                                         732\n",
       "                                                               ... \n",
       "Listeria unknown                                                  1\n",
       "Norovirus Genogroup II; Norovirus                                 1\n",
       "Salmonella enterica; Norovirus; Salmonella enterica               1\n",
       "Campylobacter; Cryptosporidium                                    1\n",
       "Bacillus cereus; Clostridium perfringens; Other - Bacterium       1\n",
       "Name: genus_species, Length: 204, dtype: int64"
      ]
     },
     "execution_count": 12,
     "metadata": {},
     "output_type": "execute_result"
    }
   ],
   "source": [
    "df.genus_species.value_counts()"
   ]
  },
  {
   "cell_type": "code",
   "execution_count": 13,
   "metadata": {},
   "outputs": [
    {
     "data": {
      "text/plain": [
       "unknown                  686\n",
       "Enteritidis              682\n",
       "O157:H7                  411\n",
       "Typhimurium              279\n",
       "Newport                  168\n",
       "                        ... \n",
       "Carmel                     1\n",
       "GII_4 Sydney (2012);       1\n",
       "I 4,[5],12:i:-;            1\n",
       "Coeln                      1\n",
       "Stanley; Stanley           1\n",
       "Name: serotype_or_genotype, Length: 260, dtype: int64"
      ]
     },
     "execution_count": 13,
     "metadata": {},
     "output_type": "execute_result"
    }
   ],
   "source": [
    "df.serotype_or_genotype.value_counts()"
   ]
  },
  {
   "cell_type": "markdown",
   "metadata": {},
   "source": [
    "- will drop serotype column\n"
   ]
  },
  {
   "cell_type": "code",
   "execution_count": 14,
   "metadata": {},
   "outputs": [
    {
     "data": {
      "text/plain": [
       "fin fish                                    190\n",
       "chicken                                     179\n",
       "beef                                        124\n",
       "egg                                         119\n",
       "pork                                        105\n",
       "                                           ... \n",
       "tofu                                          1\n",
       "water; fin fish; sauces/ dressings            1\n",
       "produce; beef                                 1\n",
       "pepper, ground                                1\n",
       "root (eg. potato); vine-stalk eg. tomato      1\n",
       "Name: contaminated_ingredient, Length: 381, dtype: int64"
      ]
     },
     "execution_count": 14,
     "metadata": {},
     "output_type": "execute_result"
    }
   ],
   "source": [
    "df.contaminated_ingredient.value_counts()"
   ]
  },
  {
   "cell_type": "markdown",
   "metadata": {},
   "source": [
    "- too many nulls on contaminated ingredient, this column will need to be dropped\n",
    "- would have been nice to be able to use this to see if there was a commonality between illness and food type but too many blanks to work with.\n",
    "- will need to focus on food vehicle and see if there is a link between illness and where food is prepared"
   ]
  },
  {
   "cell_type": "code",
   "execution_count": 15,
   "metadata": {},
   "outputs": [
    {
     "data": {
      "text/plain": [
       "Confirmed                                                                                                                                        7909\n",
       "Suspected                                                                                                                                        4068\n",
       "Suspected; Suspected                                                                                                                              310\n",
       "Confirmed; Confirmed                                                                                                                              133\n",
       "Confirmed; Suspected                                                                                                                               32\n",
       "Confirmed; Confirmed; Confirmed                                                                                                                    17\n",
       "Suspected; Confirmed                                                                                                                                7\n",
       "Confirmed; Suspected; Suspected                                                                                                                     4\n",
       "Suspected; Suspected; Suspected                                                                                                                     3\n",
       "Confirmed; Confirmed; Suspected                                                                                                                     3\n",
       "Confirmed; Suspected; Confirmed                                                                                                                     2\n",
       "Confirmed; Confirmed; Confirmed; Confirmed; Confirmed; Confirmed                                                                                    2\n",
       "Confirmed; Confirmed; Confirmed; Confirmed; Suspected                                                                                               1\n",
       "Suspected; Confirmed; Confirmed                                                                                                                     1\n",
       "Confirmed; Confirmed; Confirmed; Confirmed; Confirmed; Suspected; Suspected; Suspected; Suspected; Suspected; Suspected; Suspected; Suspected       1\n",
       "Suspected; Suspected; Suspected; Suspected; Suspected                                                                                               1\n",
       "Suspected; Suspected; Suspected; Suspected                                                                                                          1\n",
       "Suspected; Suspected; Confirmed; Suspected                                                                                                          1\n",
       "Confirmed; Confirmed; Suspected; Confirmed                                                                                                          1\n",
       "Confirmed; Suspected; Confirmed; Confirmed; Confirmed; Confirmed; Confirmed                                                                         1\n",
       "Confirmed; Confirmed; Suspected; Suspected                                                                                                          1\n",
       "Suspected; Suspected; Confirmed; Suspected; Suspected; Confirmed                                                                                    1\n",
       "Name: etiology_status, dtype: int64"
      ]
     },
     "execution_count": 15,
     "metadata": {},
     "output_type": "execute_result"
    }
   ],
   "source": [
    "df.etiology_status.value_counts()"
   ]
  },
  {
   "cell_type": "markdown",
   "metadata": {},
   "source": [
    "- majority of cases were confirmed to be caused by bacteria. Will need to create a dummy's feature but first need to change if majority of cases are confirmed, then the whole column is confirmed."
   ]
  },
  {
   "cell_type": "code",
   "execution_count": 16,
   "metadata": {},
   "outputs": [
    {
     "data": {
      "text/html": [
       "<div>\n",
       "<style scoped>\n",
       "    .dataframe tbody tr th:only-of-type {\n",
       "        vertical-align: middle;\n",
       "    }\n",
       "\n",
       "    .dataframe tbody tr th {\n",
       "        vertical-align: top;\n",
       "    }\n",
       "\n",
       "    .dataframe thead th {\n",
       "        text-align: right;\n",
       "    }\n",
       "</style>\n",
       "<table border=\"1\" class=\"dataframe\">\n",
       "  <thead>\n",
       "    <tr style=\"text-align: right;\">\n",
       "      <th></th>\n",
       "      <th>month</th>\n",
       "      <th>state</th>\n",
       "      <th>genus_species</th>\n",
       "      <th>serotype_or_genotype</th>\n",
       "      <th>etiology_status</th>\n",
       "      <th>location_of_preparation</th>\n",
       "      <th>illnesses</th>\n",
       "      <th>hospitalizations</th>\n",
       "      <th>deaths</th>\n",
       "      <th>food_vehicle</th>\n",
       "      <th>contaminated_ingredient</th>\n",
       "    </tr>\n",
       "    <tr>\n",
       "      <th>Year</th>\n",
       "      <th></th>\n",
       "      <th></th>\n",
       "      <th></th>\n",
       "      <th></th>\n",
       "      <th></th>\n",
       "      <th></th>\n",
       "      <th></th>\n",
       "      <th></th>\n",
       "      <th></th>\n",
       "      <th></th>\n",
       "      <th></th>\n",
       "    </tr>\n",
       "  </thead>\n",
       "  <tbody>\n",
       "    <tr>\n",
       "      <th>2009</th>\n",
       "      <td>1</td>\n",
       "      <td>Minnesota</td>\n",
       "      <td>Norovirus</td>\n",
       "      <td>NaN</td>\n",
       "      <td>Suspected</td>\n",
       "      <td>Restaurant - Sit-down dining</td>\n",
       "      <td>2</td>\n",
       "      <td>0.0</td>\n",
       "      <td>0.0</td>\n",
       "      <td>NaN</td>\n",
       "      <td>NaN</td>\n",
       "    </tr>\n",
       "  </tbody>\n",
       "</table>\n",
       "</div>"
      ],
      "text/plain": [
       "      month      state genus_species serotype_or_genotype etiology_status  \\\n",
       "Year                                                                        \n",
       "2009      1  Minnesota     Norovirus                  NaN       Suspected   \n",
       "\n",
       "           location_of_preparation  illnesses  hospitalizations  deaths  \\\n",
       "Year                                                                      \n",
       "2009  Restaurant - Sit-down dining          2               0.0     0.0   \n",
       "\n",
       "     food_vehicle contaminated_ingredient  \n",
       "Year                                       \n",
       "2009          NaN                     NaN  "
      ]
     },
     "execution_count": 16,
     "metadata": {},
     "output_type": "execute_result"
    }
   ],
   "source": [
    "df.head(1)"
   ]
  },
  {
   "cell_type": "code",
   "execution_count": 17,
   "metadata": {
    "scrolled": true
   },
   "outputs": [
    {
     "data": {
      "text/plain": [
       "multiple foods                                           206\n",
       "oysters, raw                                             165\n",
       "ground beef, hamburger                                   127\n",
       "salad, unspecified                                       118\n",
       "chicken, unspecified                                     105\n",
       "                                                        ... \n",
       "shrimp shumai                                              1\n",
       "apple potato salad; spinach cheese dip                     1\n",
       "mixed fruit; beets, unspecified                            1\n",
       "beef, unspecified; chicken, unspecified; french fries      1\n",
       "cantaloupe; honeydew melon                                 1\n",
       "Name: food_vehicle, Length: 3127, dtype: int64"
      ]
     },
     "execution_count": 17,
     "metadata": {},
     "output_type": "execute_result"
    }
   ],
   "source": [
    "df.food_vehicle.value_counts()"
   ]
  },
  {
   "cell_type": "markdown",
   "metadata": {},
   "source": [
    "<h3>Notes</h3>\n",
    "\n",
    "I need to create a unique index as year isn't going to work since it appears I have duplicate columns"
   ]
  },
  {
   "cell_type": "code",
   "execution_count": 18,
   "metadata": {},
   "outputs": [
    {
     "data": {
      "text/html": [
       "<div>\n",
       "<style scoped>\n",
       "    .dataframe tbody tr th:only-of-type {\n",
       "        vertical-align: middle;\n",
       "    }\n",
       "\n",
       "    .dataframe tbody tr th {\n",
       "        vertical-align: top;\n",
       "    }\n",
       "\n",
       "    .dataframe thead th {\n",
       "        text-align: right;\n",
       "    }\n",
       "</style>\n",
       "<table border=\"1\" class=\"dataframe\">\n",
       "  <thead>\n",
       "    <tr style=\"text-align: right;\">\n",
       "      <th></th>\n",
       "      <th>month</th>\n",
       "      <th>state</th>\n",
       "      <th>genus_species</th>\n",
       "      <th>serotype_or_genotype</th>\n",
       "      <th>etiology_status</th>\n",
       "      <th>location_of_preparation</th>\n",
       "      <th>illnesses</th>\n",
       "      <th>hospitalizations</th>\n",
       "      <th>deaths</th>\n",
       "      <th>food_vehicle</th>\n",
       "      <th>contaminated_ingredient</th>\n",
       "    </tr>\n",
       "    <tr>\n",
       "      <th>Year</th>\n",
       "      <th></th>\n",
       "      <th></th>\n",
       "      <th></th>\n",
       "      <th></th>\n",
       "      <th></th>\n",
       "      <th></th>\n",
       "      <th></th>\n",
       "      <th></th>\n",
       "      <th></th>\n",
       "      <th></th>\n",
       "      <th></th>\n",
       "    </tr>\n",
       "  </thead>\n",
       "  <tbody>\n",
       "    <tr>\n",
       "      <th>2009</th>\n",
       "      <td>1</td>\n",
       "      <td>Minnesota</td>\n",
       "      <td>Norovirus</td>\n",
       "      <td>NaN</td>\n",
       "      <td>Confirmed</td>\n",
       "      <td>NaN</td>\n",
       "      <td>16</td>\n",
       "      <td>0.0</td>\n",
       "      <td>0.0</td>\n",
       "      <td>NaN</td>\n",
       "      <td>NaN</td>\n",
       "    </tr>\n",
       "    <tr>\n",
       "      <th>2009</th>\n",
       "      <td>1</td>\n",
       "      <td>Minnesota</td>\n",
       "      <td>Norovirus</td>\n",
       "      <td>NaN</td>\n",
       "      <td>Suspected</td>\n",
       "      <td>Restaurant - Sit-down dining</td>\n",
       "      <td>5</td>\n",
       "      <td>0.0</td>\n",
       "      <td>0.0</td>\n",
       "      <td>NaN</td>\n",
       "      <td>NaN</td>\n",
       "    </tr>\n",
       "    <tr>\n",
       "      <th>2009</th>\n",
       "      <td>1</td>\n",
       "      <td>Minnesota</td>\n",
       "      <td>Norovirus</td>\n",
       "      <td>NaN</td>\n",
       "      <td>Confirmed</td>\n",
       "      <td>Restaurant - \"Fast-food\"(drive up service or pay at counter)</td>\n",
       "      <td>3</td>\n",
       "      <td>0.0</td>\n",
       "      <td>0.0</td>\n",
       "      <td>NaN</td>\n",
       "      <td>NaN</td>\n",
       "    </tr>\n",
       "    <tr>\n",
       "      <th>2009</th>\n",
       "      <td>1</td>\n",
       "      <td>Minnesota</td>\n",
       "      <td>Norovirus</td>\n",
       "      <td>NaN</td>\n",
       "      <td>Confirmed</td>\n",
       "      <td>Restaurant - other or unknown type</td>\n",
       "      <td>21</td>\n",
       "      <td>0.0</td>\n",
       "      <td>0.0</td>\n",
       "      <td>cookies</td>\n",
       "      <td>NaN</td>\n",
       "    </tr>\n",
       "    <tr>\n",
       "      <th>2009</th>\n",
       "      <td>1</td>\n",
       "      <td>Minnesota</td>\n",
       "      <td>Norovirus</td>\n",
       "      <td>NaN</td>\n",
       "      <td>Confirmed</td>\n",
       "      <td>Restaurant - other or unknown type</td>\n",
       "      <td>7</td>\n",
       "      <td>0.0</td>\n",
       "      <td>0.0</td>\n",
       "      <td>salad, unspecified</td>\n",
       "      <td>NaN</td>\n",
       "    </tr>\n",
       "  </tbody>\n",
       "</table>\n",
       "</div>"
      ],
      "text/plain": [
       "      month      state genus_species serotype_or_genotype etiology_status  \\\n",
       "Year                                                                        \n",
       "2009      1  Minnesota     Norovirus                  NaN       Confirmed   \n",
       "2009      1  Minnesota     Norovirus                  NaN       Suspected   \n",
       "2009      1  Minnesota     Norovirus                  NaN       Confirmed   \n",
       "2009      1  Minnesota     Norovirus                  NaN       Confirmed   \n",
       "2009      1  Minnesota     Norovirus                  NaN       Confirmed   \n",
       "\n",
       "                                           location_of_preparation  illnesses  \\\n",
       "Year                                                                            \n",
       "2009                                                           NaN         16   \n",
       "2009                                  Restaurant - Sit-down dining          5   \n",
       "2009  Restaurant - \"Fast-food\"(drive up service or pay at counter)          3   \n",
       "2009                            Restaurant - other or unknown type         21   \n",
       "2009                            Restaurant - other or unknown type          7   \n",
       "\n",
       "      hospitalizations  deaths        food_vehicle contaminated_ingredient  \n",
       "Year                                                                        \n",
       "2009               0.0     0.0                 NaN                     NaN  \n",
       "2009               0.0     0.0                 NaN                     NaN  \n",
       "2009               0.0     0.0                 NaN                     NaN  \n",
       "2009               0.0     0.0             cookies                     NaN  \n",
       "2009               0.0     0.0  salad, unspecified                     NaN  "
      ]
     },
     "execution_count": 18,
     "metadata": {},
     "output_type": "execute_result"
    }
   ],
   "source": [
    "df[df.index.duplicated()].head()"
   ]
  },
  {
   "cell_type": "code",
   "execution_count": 19,
   "metadata": {},
   "outputs": [],
   "source": [
    "df = df.reset_index()"
   ]
  },
  {
   "cell_type": "markdown",
   "metadata": {},
   "source": [
    "### NEW FEATURES"
   ]
  },
  {
   "cell_type": "markdown",
   "metadata": {},
   "source": [
    "- create a column called \"was_hospitalized\" that creates a binary column\n",
    "- create a column called \"had death\" that creates a binary column based on if death occured during that instance\n",
    "-  create a column called \"had multiple deaths\" that creates a binary column based on if more than one death occured during that instance"
   ]
  },
  {
   "cell_type": "code",
   "execution_count": 20,
   "metadata": {},
   "outputs": [],
   "source": [
    "df['was_hospitalized'] = np.where(df['hospitalizations']>0, 1, 0)"
   ]
  },
  {
   "cell_type": "code",
   "execution_count": 21,
   "metadata": {},
   "outputs": [],
   "source": [
    "df['had_death'] = np.where(df['deaths'] > 0, 1, 0)"
   ]
  },
  {
   "cell_type": "code",
   "execution_count": 22,
   "metadata": {},
   "outputs": [],
   "source": [
    "df['had_multiple_deaths'] = np.where(df['deaths']> 1, 1, 0)"
   ]
  },
  {
   "cell_type": "markdown",
   "metadata": {},
   "source": [
    "-------\n",
    "\n",
    "<h2> Use REGEX to parse the location of preparation column</h2>\n",
    "\n",
    "Since there are multiple locations for each instance, need to split up some how. \n",
    "- splits are done using the a semi-colon\n",
    "- after that is complete, then each type needs to be reduced to a couple word (i.e., 'caterer', 'restaurant', 'private home', etc)\n",
    "\n",
    "-------"
   ]
  },
  {
   "cell_type": "code",
   "execution_count": null,
   "metadata": {},
   "outputs": [],
   "source": []
  },
  {
   "cell_type": "code",
   "execution_count": 23,
   "metadata": {
    "scrolled": true
   },
   "outputs": [
    {
     "data": {
      "text/plain": [
       "Restaurant - other or unknown type                                                                                                                              8125\n",
       "Restaurant - Sit-down dining                                                                                                                                    2229\n",
       "Private home/residence                                                                                                                                          1608\n",
       "Caterer (food prepared off-site from where served)                                                                                                              1053\n",
       "Other (describe in remarks)                                                                                                                                     1031\n",
       "                                                                                                                                                                ... \n",
       "Restaurant - Sit-down dining; Grocery store; Office/indoor workplace                                                                                               1\n",
       "Religious facility; Other (describe in remarks)                                                                                                                    1\n",
       "Restaurant - other or unknown type; Private home/residence; Banquet Facility (food prepared and served on-site); Grocery store                                     1\n",
       "Restaurant - other or unknown type; Private home/residence; Grocery store; Long-term care/nursing home/assisted living facility; Other (describe in remarks)       1\n",
       "Restaurant - \"Fast-food\"(drive up service or pay at counter); Restaurant - Sit-down dining; School/college/university                                              1\n",
       "Name: location_of_preparation, Length: 222, dtype: int64"
      ]
     },
     "execution_count": 23,
     "metadata": {},
     "output_type": "execute_result"
    }
   ],
   "source": [
    "df.location_of_preparation.value_counts()"
   ]
  },
  {
   "cell_type": "code",
   "execution_count": 24,
   "metadata": {},
   "outputs": [
    {
     "data": {
      "text/plain": [
       "['Restaurant - other or unknown type',\n",
       " ' Private home/residence',\n",
       " ' Grocery store',\n",
       " ' Long-term care/nursing home/assisted living facility']"
      ]
     },
     "execution_count": 24,
     "metadata": {},
     "output_type": "execute_result"
    }
   ],
   "source": [
    "string = \"Restaurant - other or unknown type; Private home/residence; Grocery store; Long-term care/nursing home/assisted living facility\"\n",
    "\n",
    "re.findall(r'[^;]+', string)"
   ]
  },
  {
   "cell_type": "code",
   "execution_count": 25,
   "metadata": {},
   "outputs": [
    {
     "data": {
      "text/plain": [
       "['Restaurant - Fast-food(drive up service or pay at counter)',\n",
       " ' Restaurant - Sit-down dining',\n",
       " ' Private home/residence',\n",
       " ' Grocery store']"
      ]
     },
     "execution_count": 25,
     "metadata": {},
     "output_type": "execute_result"
    }
   ],
   "source": [
    "string = \"Restaurant - Fast-food(drive up service or pay at counter); Restaurant - Sit-down dining; Private home/residence; Grocery store\"\n",
    "re.findall(r'[^;]+', string)\n"
   ]
  },
  {
   "cell_type": "code",
   "execution_count": null,
   "metadata": {
    "jupyter": {
     "source_hidden": true
    }
   },
   "outputs": [],
   "source": []
  },
  {
   "cell_type": "code",
   "execution_count": null,
   "metadata": {},
   "outputs": [],
   "source": []
  },
  {
   "cell_type": "code",
   "execution_count": 26,
   "metadata": {},
   "outputs": [
    {
     "name": "stdout",
     "output_type": "stream",
     "text": [
      "<class 'pandas.core.frame.DataFrame'>\n",
      "RangeIndex: 19119 entries, 0 to 19118\n",
      "Data columns (total 15 columns):\n",
      " #   Column                   Non-Null Count  Dtype  \n",
      "---  ------                   --------------  -----  \n",
      " 0   Year                     19119 non-null  int64  \n",
      " 1   month                    19119 non-null  int64  \n",
      " 2   state                    19119 non-null  object \n",
      " 3   genus_species            12500 non-null  object \n",
      " 4   serotype_or_genotype     3907 non-null   object \n",
      " 5   etiology_status          12500 non-null  object \n",
      " 6   location_of_preparation  17984 non-null  object \n",
      " 7   illnesses                19119 non-null  int64  \n",
      " 8   hospitalizations         15494 non-null  float64\n",
      " 9   deaths                   15518 non-null  float64\n",
      " 10  food_vehicle             10156 non-null  object \n",
      " 11  contaminated_ingredient  1876 non-null   object \n",
      " 12  was_hospitalized         19119 non-null  int64  \n",
      " 13  had_death                19119 non-null  int64  \n",
      " 14  had_multiple_deaths      19119 non-null  int64  \n",
      "dtypes: float64(2), int64(6), object(7)\n",
      "memory usage: 2.2+ MB\n"
     ]
    }
   ],
   "source": [
    "\n",
    "df.info()"
   ]
  },
  {
   "cell_type": "markdown",
   "metadata": {},
   "source": [
    "#### Null situation\n",
    "\n",
    "- investigate contaminated ingredients, any way to impute?\n",
    "- identify food vehicle with value counts, any way to impute?\n",
    "- same goes for serotype and etiology status"
   ]
  },
  {
   "cell_type": "code",
   "execution_count": 27,
   "metadata": {},
   "outputs": [
    {
     "data": {
      "text/plain": [
       "multiple foods                                           206\n",
       "oysters, raw                                             165\n",
       "ground beef, hamburger                                   127\n",
       "salad, unspecified                                       118\n",
       "chicken, unspecified                                     105\n",
       "                                                        ... \n",
       "shrimp shumai                                              1\n",
       "apple potato salad; spinach cheese dip                     1\n",
       "mixed fruit; beets, unspecified                            1\n",
       "beef, unspecified; chicken, unspecified; french fries      1\n",
       "cantaloupe; honeydew melon                                 1\n",
       "Name: food_vehicle, Length: 3127, dtype: int64"
      ]
     },
     "execution_count": 27,
     "metadata": {},
     "output_type": "execute_result"
    }
   ],
   "source": [
    "df.food_vehicle.value_counts()"
   ]
  },
  {
   "cell_type": "code",
   "execution_count": 28,
   "metadata": {},
   "outputs": [],
   "source": [
    "df = df.replace(to_replace='None', value=np.nan).dropna(axis=0, subset=['food_vehicle'])"
   ]
  },
  {
   "cell_type": "markdown",
   "metadata": {},
   "source": [
    "df = df.dropna(axis=0, subset=['food_vehicle'])"
   ]
  },
  {
   "cell_type": "code",
   "execution_count": 29,
   "metadata": {},
   "outputs": [
    {
     "name": "stdout",
     "output_type": "stream",
     "text": [
      "<class 'pandas.core.frame.DataFrame'>\n",
      "Int64Index: 10156 entries, 4 to 19118\n",
      "Data columns (total 15 columns):\n",
      " #   Column                   Non-Null Count  Dtype  \n",
      "---  ------                   --------------  -----  \n",
      " 0   Year                     10156 non-null  int64  \n",
      " 1   month                    10156 non-null  int64  \n",
      " 2   state                    10156 non-null  object \n",
      " 3   genus_species            7245 non-null   object \n",
      " 4   serotype_or_genotype     2067 non-null   object \n",
      " 5   etiology_status          7245 non-null   object \n",
      " 6   location_of_preparation  9816 non-null   object \n",
      " 7   illnesses                10156 non-null  int64  \n",
      " 8   hospitalizations         7909 non-null   float64\n",
      " 9   deaths                   7846 non-null   float64\n",
      " 10  food_vehicle             10156 non-null  object \n",
      " 11  contaminated_ingredient  1876 non-null   object \n",
      " 12  was_hospitalized         10156 non-null  int64  \n",
      " 13  had_death                10156 non-null  int64  \n",
      " 14  had_multiple_deaths      10156 non-null  int64  \n",
      "dtypes: float64(2), int64(6), object(7)\n",
      "memory usage: 1.2+ MB\n"
     ]
    }
   ],
   "source": [
    "df.info()"
   ]
  },
  {
   "cell_type": "markdown",
   "metadata": {},
   "source": [
    "<h3>the use of REGEX below via stack</h3>\n",
    "\n",
    "<h5>The safest way to capture the characters before the comma is: ^([^,]*)</h5>\n",
    "\n",
    "Explanation:\n",
    "\n",
    "- ^        Start of string\n",
    "- (        Start of capture group\n",
    "- [^,]*    Any number of any non-comma characters\n",
    "- )        End of capture group"
   ]
  },
  {
   "cell_type": "code",
   "execution_count": 30,
   "metadata": {},
   "outputs": [],
   "source": [
    "#First clean through of food_vehicle column. Creating new column called food_type. Need to clean again \n",
    "# to get rid of any items after a semi-colon\n",
    "search = []    \n",
    "str_re = r\"^([^,]*)\"\n",
    "for values in df['food_vehicle']:\n",
    "    search.append(re.search(str_re, values).group())\n",
    "\n"
   ]
  },
  {
   "cell_type": "code",
   "execution_count": 31,
   "metadata": {},
   "outputs": [],
   "source": [
    "df['food_type'] = search\n"
   ]
  },
  {
   "cell_type": "code",
   "execution_count": 32,
   "metadata": {},
   "outputs": [
    {
     "data": {
      "text/plain": [
       "chicken                                696\n",
       "sandwich                               551\n",
       "fish                                   531\n",
       "ground beef                            381\n",
       "pizza                                  278\n",
       "                                      ... \n",
       "salads; tomatoes; vegetables             1\n",
       "cantaloupe & strawberry mix              1\n",
       "cheese; deli meat                        1\n",
       "cheesy chicken and rice frozen meal      1\n",
       "cannelloni; chicken                      1\n",
       "Name: food_type, Length: 1507, dtype: int64"
      ]
     },
     "execution_count": 32,
     "metadata": {},
     "output_type": "execute_result"
    }
   ],
   "source": [
    "df.food_type.value_counts()"
   ]
  },
  {
   "cell_type": "markdown",
   "metadata": {},
   "source": [
    "### Create new column called location of preparation...home or restaurant, can make it a binary"
   ]
  },
  {
   "cell_type": "code",
   "execution_count": null,
   "metadata": {},
   "outputs": [],
   "source": []
  },
  {
   "cell_type": "code",
   "execution_count": null,
   "metadata": {},
   "outputs": [],
   "source": []
  },
  {
   "cell_type": "code",
   "execution_count": null,
   "metadata": {},
   "outputs": [],
   "source": []
  }
 ],
 "metadata": {
  "kernelspec": {
   "display_name": "Python 3",
   "language": "python",
   "name": "python3"
  },
  "language_info": {
   "codemirror_mode": {
    "name": "ipython",
    "version": 3
   },
   "file_extension": ".py",
   "mimetype": "text/x-python",
   "name": "python",
   "nbconvert_exporter": "python",
   "pygments_lexer": "ipython3",
   "version": "3.8.5"
  }
 },
 "nbformat": 4,
 "nbformat_minor": 4
}
